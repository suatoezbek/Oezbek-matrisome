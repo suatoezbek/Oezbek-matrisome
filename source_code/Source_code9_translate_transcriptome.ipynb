{
 "cells": [
  {
   "cell_type": "code",
   "execution_count": null,
   "metadata": {},
   "outputs": [],
   "source": [
    "from Bio import SeqIO\n",
    "from Bio.Seq import Seq\n",
    "from Bio.SeqRecord import SeqRecord\n",
    "\n",
    "def find_longest_coding_sequence(record):\n",
    "    start_codons = [\"ATG\"]\n",
    "    stop_codons = [\"TAA\", \"TAG\", \"TGA\"]\n",
    "\n",
    "    longest_coding_sequence = \"\"\n",
    "    for start in start_codons:\n",
    "        for stop in stop_codons:\n",
    "            start_pos = record.seq.find(start)\n",
    "            stop_pos = record.seq.rfind(stop)\n",
    "\n",
    "            if start_pos != -1 and stop_pos != -1 and start_pos < stop_pos:\n",
    "                coding_sequence = record.seq[start_pos:stop_pos + 3]\n",
    "                if len(coding_sequence) > len(longest_coding_sequence):\n",
    "                    longest_coding_sequence = coding_sequence\n",
    "\n",
    "    return longest_coding_sequence\n",
    "\n",
    "def extract_longest_coding_sequences(mrna_file, output_folder):\n",
    "    sequences = SeqIO.parse(mrna_file, \"fasta\")\n",
    "    \n",
    "    protein_records = []\n",
    "\n",
    "    for record in sequences:\n",
    "        longest_coding_sequence = find_longest_coding_sequence(record)\n",
    "\n",
    "        # Translate coding sequence to protein\n",
    "        protein_sequence = longest_coding_sequence.translate()\n",
    "\n",
    "        # Create a SeqRecord for the protein sequence\n",
    "        protein_record = SeqRecord(protein_sequence, id=record.id, description=f\"Translated protein from {record.id}\")\n",
    "\n",
    "        protein_records.append(protein_record)\n",
    "\n",
    "    # Define the output file path and name\n",
    "    output_file = f\"{output_folder}/all_proteins.fasta\"\n",
    "\n",
    "    # Write all protein sequences to a single FASTA file\n",
    "    SeqIO.write(protein_records, output_file, \"fasta\")\n",
    "\n",
    "# Example usage\n",
    "mrna_file = \"path/to/mrna_sequences.fasta\"\n",
    "output_folder = \"path/to/output_folder\"\n",
    "extract_longest_coding_sequences(mrna_file, output_folder)"
   ]
  }
 ],
 "metadata": {
  "language_info": {
   "name": "python"
  }
 },
 "nbformat": 4,
 "nbformat_minor": 2
}
